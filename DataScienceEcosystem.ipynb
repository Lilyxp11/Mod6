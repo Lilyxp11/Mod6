{
 "cells": [
  {
   "cell_type": "markdown",
   "id": "793e5826-e547-41e4-8ce3-a56d135da9c4",
   "metadata": {},
   "source": [
    "# Data Science Tools and Ecosystem"
   ]
  },
  {
   "cell_type": "markdown",
   "id": "124aa3a9-7e03-4813-9f23-baef5abff064",
   "metadata": {},
   "source": [
    "In this notebook, Data Science Tools and Ecosystem are summarized."
   ]
  },
  {
   "cell_type": "markdown",
   "id": "86f2833a-aa2f-4f2b-a00e-6184e9e90261",
   "metadata": {},
   "source": [
    "Some of the popular languages that Data Scientists use are:\n",
    "1. R\n",
    "2. Python\n",
    "3. Stata"
   ]
  },
  {
   "cell_type": "markdown",
   "id": "6719b54c-5a5a-4bd2-a910-08d516d277a2",
   "metadata": {},
   "source": [
    "Some of the commonly used libraries used by Data Scientists include:\n",
    "1. ggplot\n",
    "2. ggplot2\n",
    "3. dplyr"
   ]
  },
  {
   "cell_type": "markdown",
   "id": "d4291d11-4a40-4df3-b99f-b095fc3824ac",
   "metadata": {},
   "source": [
    "| Data Science Tools |\n",
    "| ------------------ |\n",
    "| RStudio |\n",
    "| TensorFlow |\n",
    "| Apache Hadoop |\n",
    "| Jupyter Notebooks |"
   ]
  },
  {
   "cell_type": "markdown",
   "id": "1e200ae5-6fec-4b56-b00a-d4b36fd9533a",
   "metadata": {},
   "source": [
    "### Below are a few examples of evaluating arithmetic expressions in Python:\n",
    "# 3+5\n",
    "# 6-11\n"
   ]
  },
  {
   "cell_type": "code",
   "execution_count": 1,
   "id": "c181383e-c5f4-442c-8730-b120caea6e9b",
   "metadata": {},
   "outputs": [
    {
     "data": {
      "text/plain": [
       "17"
      ]
     },
     "execution_count": 1,
     "metadata": {},
     "output_type": "execute_result"
    }
   ],
   "source": [
    "# THis is a simple arithmetic expression to multiply then add integers\n",
    "\n",
    "(3*4)+5"
   ]
  },
  {
   "cell_type": "code",
   "execution_count": 3,
   "id": "3ee9aaa2-9533-46d5-9d6d-c9fec1b5d303",
   "metadata": {},
   "outputs": [
    {
     "data": {
      "text/plain": [
       "3.3333333333333335"
      ]
     },
     "execution_count": 3,
     "metadata": {},
     "output_type": "execute_result"
    }
   ],
   "source": [
    "# This will convert 200 minutes to hours by diving by 60\n",
    "200/60"
   ]
  },
  {
   "cell_type": "markdown",
   "id": "8a37f36e-bfa4-44fe-bca5-87bebaefbfeb",
   "metadata": {},
   "source": [
    "### **Objectives:**\n",
    "\n",
    "- Markdown cells\n",
    "- Code cells\n",
    "- Creating a table ina markdown cell\n",
    "- Ordered and Unordered lists\n",
    "- Executing arithmentic functions"
   ]
  },
  {
   "cell_type": "markdown",
   "id": "95a205fe-c12e-4eae-b8c5-e3957a5241d3",
   "metadata": {},
   "source": [
    "## Author\n",
    "Tanya "
   ]
  },
  {
   "cell_type": "code",
   "execution_count": null,
   "id": "4d6d65e7-f457-4fa5-ab69-afa8b436c6e7",
   "metadata": {},
   "outputs": [],
   "source": []
  }
 ],
 "metadata": {
  "kernelspec": {
   "display_name": "Python 3 (ipykernel)",
   "language": "python",
   "name": "python3"
  },
  "language_info": {
   "codemirror_mode": {
    "name": "ipython",
    "version": 3
   },
   "file_extension": ".py",
   "mimetype": "text/x-python",
   "name": "python",
   "nbconvert_exporter": "python",
   "pygments_lexer": "ipython3",
   "version": "3.12.7"
  }
 },
 "nbformat": 4,
 "nbformat_minor": 5
}
